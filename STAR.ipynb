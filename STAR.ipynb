{
 "cells": [
  {
   "cell_type": "markdown",
   "id": "1f946625-5bb6-4d3f-a8c6-339f271102d3",
   "metadata": {},
   "source": [
    "# Achievements\n",
    "\n",
    "ML infrastructure\n",
    "- S: Whole team was manually constructing hundres of spec or yaml files to provision infrastructure for machine learnig case. A lot of information we were providing to those files were duplicate. \n",
    "- A: Came up with using one config file where we supply minimum information. Then build a set of scripts in python and bash to automatically gnenrate all those spec or yaml files based on that one config file.\n",
    "- R: Use case infra provisioning, which used to take 4-6 weeks were reduced to less than 2 weeks.\n",
    "\n",
    "AKS\n",
    "- S: The cluster was not robust in general. (Lacking monitoring / security)\n",
    "- A: Deployment datadog, kube-state-metric, and kured using helm chart\n",
    "- R: The time to notice CPU & memory related outage was cut by 1-2 days in general for each outage (Engineers solve before users can notice) The time and effort to reboot AKS nodes manually by checking the condition inside the machine is eliminated. (15-30 mins per day)\n",
    "\n",
    "DevOps pipeline\n",
    "- S: When users make mistakes in pipeline configurations, they had to go back to a new PR. There was no way update deployment configuration for inflight releases.\n",
    "- A: Came up with a way to allow users to invoke a separate release which targets the original release to update its deployment variables. This design passed the audit because the separate release will be triggered by git, which we treat as source of truth for all deployments.\n",
    "- R: User feedback was the their deployment time got reduced by 2-3 times on average because they didn't have to go back to the beginning releazing the mistake during the release.\n",
    "\n",
    "# Caculated risk and take\n",
    "\n",
    "\n",
    "\n",
    "# Build something from scratch\n",
    "\n",
    "- S: Team had created jobs manually in Jenkins where scripts were imbedded with the jobs. Each job was different, making it hard to manage CI for the whole line of business.\n",
    "- A: Wrote Jenkins multibranch pipeline using groovy from scratch so that every project would use the same codebase for CI. And the codebase is stored is one place and updated in one place rather than each job being managed different. This improved efficieny in automated management.\n",
    "- R: Each project in LOB significatly reduced to time for onboarding to CI. From weeks to maximum 1 days since we established a streamlined way to configure hooks from code repo to Jenkins and how to configure pipeline for each project in a very systemtic way.\n",
    "\n",
    "# Disaggreement with team member\n",
    "\n",
    "- S: I updated helm chart for deploying resources in K8s for the real time usecases. My team member claimed that I should update all use cases that used that helm chart immediately.\n",
    "- A: I reasoned that there wouldn't be any difference between updating the chart version now or the next time each use cases had to execute deployment. My team member still wanted to establish a process where whenever we updated the chart, we also update all use cases. I explained the time and effort for doing so, and the benefits of having that process would far exceed the cost from our side.\n",
    "- R: He came to an agreement and we saved time (This idea would be similar lazy exection in software engineering, and it is used because it is efficient)\n",
    "\n",
    "# Had to pursuade the team\n",
    "\n",
    "# Had to go beyond my responsibility\n",
    "\n",
    "- S: I was inner-sourcing in Cloud Engineering, working as a developer for the enterprise pipeline. There were separate individuals hired for supporting the users of the pipeline. This support was done through an internal forum where users would ask questions and support team would answer questions. Because support engineers were not too knowledgable about the interal mechanics of the pipeline, users were complaining about the quality of support.\n",
    "\n",
    "- A: I voluntarily started answering the question on the forum whenever I found time after finishing my dev work. The forum was used by everyone in the enterprise, and it was aligned that support engineer working for a LOB would only support users in that LOB. But I supported even users from different LOB from where I am from. \n",
    "\n",
    "- R: I did that to build trust, because in an enterprise settings, often time we need things from each others. And helping other LOBs would require time commitment. I believe life is give and taken, so by giving first I could receive help from others. This was realized after I joined layer6 AI because I could receive lots of support and help from engineers from other LOBs when I was struggling with the area of pipeline that I was not familiar with.\n",
    "\n",
    "# Most challening experience\n",
    "\n",
    "- S: In the first week of joining Layer6 AI, I was tasked to on-board infrastructure for a new use case. This is one major task for this team. I was given two weeks, which is the same time given to all other members.\n",
    "- A: I studied the on-boarding process based on the existing documentation. Many places in the document did not make sense, so I reached out to team members asking questions and correcting the document. I noted down places for improvement, especially any automation opportunities. The pipeline to provision the infrastructure was failing in many different places for I investigated the codebase to realize potential issues and worked with cloud engineers to fix them. \n",
    "- R: It tooks two weeks and two days to finish the infrasturcture on-boarding. Team said well down for it was first time for me to do this work and has shown me trush giving me subsequent works that were intersting to me.\n",
    "\n"
   ]
  },
  {
   "cell_type": "code",
   "execution_count": null,
   "id": "a5b9a769-d060-44f1-b6bf-942d0bd19db5",
   "metadata": {},
   "outputs": [],
   "source": []
  }
 ],
 "metadata": {
  "kernelspec": {
   "display_name": "Python 3 (ipykernel)",
   "language": "python",
   "name": "python3"
  },
  "language_info": {
   "codemirror_mode": {
    "name": "ipython",
    "version": 3
   },
   "file_extension": ".py",
   "mimetype": "text/x-python",
   "name": "python",
   "nbconvert_exporter": "python",
   "pygments_lexer": "ipython3",
   "version": "3.9.10"
  }
 },
 "nbformat": 4,
 "nbformat_minor": 5
}
