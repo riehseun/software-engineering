{
 "cells": [
  {
   "cell_type": "markdown",
   "id": "9c96bfe5-9eb0-450c-be39-aeb5ecd03cc1",
   "metadata": {},
   "source": [
    "# Overview (Example: Twitter)\n",
    "\n",
    "## Requirement clarification\n",
    "\n",
    "- Do users post tweets and follow other people?\n",
    "- Do users search tweets?\n",
    "- Need to display user timeline?\n",
    "- Need to push notification on new tweets?\n",
    "- Need to display trending topics?\n",
    "- Do tweets contain photos and videos?\n",
    "- Are we discussing backend only or frontend too?\n",
    "\n",
    "## System estimation\n",
    "\n",
    "- Numer of tweets? Number of users? \n",
    "- Size of storage?\n",
    "- Network bandwidth?\n",
    "\n",
    "## System interface\n",
    "\n",
    "- What APIs are expected?\n",
    "\n",
    "## Data model\n",
    "\n",
    "- User (UserID, Name, Email, CreationDate, LastLogin, etc)\n",
    "- Tweet (TweetID, Content, TimeStamp, etc)\n",
    "- UserFollow (UserID1, UserID2)\n",
    "\n",
    "## High-level design\n",
    "\n",
    "- "
   ]
  },
  {
   "cell_type": "code",
   "execution_count": null,
   "id": "81ccc92b-0eeb-47e1-9b33-04b828aa4796",
   "metadata": {},
   "outputs": [],
   "source": []
  }
 ],
 "metadata": {
  "kernelspec": {
   "display_name": "Python 3 (ipykernel)",
   "language": "python",
   "name": "python3"
  },
  "language_info": {
   "codemirror_mode": {
    "name": "ipython",
    "version": 3
   },
   "file_extension": ".py",
   "mimetype": "text/x-python",
   "name": "python",
   "nbconvert_exporter": "python",
   "pygments_lexer": "ipython3",
   "version": "3.9.10"
  }
 },
 "nbformat": 4,
 "nbformat_minor": 5
}
