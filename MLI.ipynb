{
 "cells": [
  {
   "cell_type": "markdown",
   "id": "e2885da0-d0e0-4966-8f80-88c881accbdb",
   "metadata": {},
   "source": [
    "# Overview (Example: Google Search Engine)\n",
    "\n",
    "## Latency and scale\n",
    "\n",
    "- Return results in 100 miliseconds or 500 miliseconds?\n",
    "- How many requests to handle per second?\n",
    "\n",
    "## Define metrics\n",
    "\n",
    "- Offline metrics \n",
    "    - Binary classification: AUC, log loss, precision, recall, F1\n",
    "    - search engine ranking: NDCG\n",
    "- Online mertics\n",
    "    - component-wise: NDCG\n",
    "    - end-to-end: user engagement and retention rate\n",
    "    \n",
    "## Architecture for scale\n",
    "\n",
    "- Funnel approach where each stage has fewer data to process.\n",
    "\n",
    "## Training data\n",
    "\n",
    "- If users click on search enginer result, count it as positive.\n",
    "\n",
    "## Feature engineering\n",
    "\n",
    "## Model training\n",
    "\n",
    "- In funnel approach, simpler models at the top and complex models at the bottom.\n",
    "\n",
    "## Offline evaluation\n",
    "\n",
    "- Evaludate models on validation set.\n",
    "\n",
    "## Online evaluation\n",
    "\n",
    "- Test result will determine whether to deploy the model or not.\n",
    "\n",
    "## Iterations\n",
    "\n",
    "- If model performs well offline, but not online. Need to debug."
   ]
  },
  {
   "cell_type": "markdown",
   "id": "6c99e543-5732-4d06-ae2b-676177b89b61",
   "metadata": {},
   "source": [
    "# Performance and capacity\n",
    "\n",
    "- Training complexity: time taken to train.\n",
    "- Evaluation complexity: time taken to evaluate inputs at test time.\n",
    "- Sample complexity: total number of samples to learn target function.\n",
    "\n",
    "## Train and evaluation complexity \n",
    "\n",
    "- $n$: number of training examples.\n",
    "- $f$: number of features.\n",
    "- $n_{l_{i}}$: number of neurons in $i$th layer\n",
    "- $e$: number of epochs.\n",
    "- Linear/logistic regression\n",
    "    - Train: $O(nfe)$\n",
    "    - Evaludation: $O(f)$\n",
    "- Neural network\n",
    "    - Train: exponential (varies between models)\n",
    "    - Evaludation: $O(fn_{l_{i}} + n_{l_{i}}n_{l_{i}} + \\dots)$"
   ]
  },
  {
   "cell_type": "markdown",
   "id": "6c129aed-34a0-4c5b-820c-130010703827",
   "metadata": {},
   "source": [
    "# Training Data \n",
    "\n",
    "- Training data: fit model parameters.\n",
    "- Validation data: hyper parameter tuning.\n",
    "- Test data: predict on data the model has not seen before.\n",
    "\n",
    "## Data filtering\n",
    "\n",
    "Cleaning up data\n",
    "- Handle missing data, outliers, duplicates.\n",
    "- Drop out irrelevant features.\n",
    "\n",
    "Removing bias\n",
    "\n",
    "\n",
    "Boostraping new items\n",
    " "
   ]
  },
  {
   "cell_type": "markdown",
   "id": "6af74dff-3e79-4a33-a024-995a0b2d44d9",
   "metadata": {},
   "source": [
    "# Online experimentation\n",
    "\n",
    "A/B testing\n",
    "- Original version is control and new version is variation.\n",
    "- Determine if variation is significantly better than control."
   ]
  },
  {
   "cell_type": "markdown",
   "id": "7d995af7-3cdf-4ca6-9d2f-c9014107ce7e",
   "metadata": {},
   "source": [
    "# Embeddings\n",
    "\n",
    "- Encode entities (words, images, etc) into vector space.\n",
    "\n",
    "## Text embeddings\n",
    "\n",
    "- Word2vec\n",
    "    - Uses shallow NN (a single hidden layer) from a large corpus of text data.\n",
    "    - Uses neighboring words to predict the current words, and generates embeddings during this process.\n",
    "        - Ex. Continuous bag of words (CBOW)\n",
    "    - Has a fixed vector for every term. (does not consider the context)\n",
    "- Bidirectional Encoder Representations from Transformers (BERT)\n",
    "    - Uses attention to see all words in the context, and utilizes only the ones that help the prediction."
   ]
  },
  {
   "cell_type": "code",
   "execution_count": null,
   "id": "b7aab41e-ab17-4437-9656-5285aee24714",
   "metadata": {},
   "outputs": [],
   "source": []
  }
 ],
 "metadata": {
  "kernelspec": {
   "display_name": "Python 3 (ipykernel)",
   "language": "python",
   "name": "python3"
  },
  "language_info": {
   "codemirror_mode": {
    "name": "ipython",
    "version": 3
   },
   "file_extension": ".py",
   "mimetype": "text/x-python",
   "name": "python",
   "nbconvert_exporter": "python",
   "pygments_lexer": "ipython3",
   "version": "3.9.10"
  }
 },
 "nbformat": 4,
 "nbformat_minor": 5
}
