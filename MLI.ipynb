{
 "cells": [
  {
   "cell_type": "markdown",
   "id": "e2885da0-d0e0-4966-8f80-88c881accbdb",
   "metadata": {},
   "source": [
    "# Overview (Example: Google Search Engine)\n",
    "\n",
    "## Latency and scale\n",
    "\n",
    "- Return results in 100 miliseconds or 500 miliseconds?\n",
    "- How many requests to handle per second?\n",
    "\n",
    "## Define metrics\n",
    "\n",
    "- Offline metrics \n",
    "    - Binary classification: AUC, log loss, precision, recall, F1\n",
    "    - search engine ranking: NDCG\n",
    "- Online mertics\n",
    "    - component-wise: NDCG\n",
    "    - end-to-end: user engagement and retention rate\n",
    "    \n",
    "## Architecture for scale\n",
    "\n",
    "- Funnel approach where each stage has fewer data to process.\n",
    "\n",
    "## Training data\n",
    "\n",
    "- If users click on search enginer result, count it as positive.\n",
    "\n",
    "## Feature engineering\n",
    "\n",
    "## Model training\n",
    "\n",
    "- In funnel approach, simpler models at the top and complex models at the bottom.\n",
    "\n",
    "## Offline evaluation\n",
    "\n",
    "- Evaludate models on validation set.\n",
    "\n",
    "## Online evaluation\n",
    "\n",
    "- Test result will determine whether to deploy the model or not.\n",
    "\n",
    "## Iterations\n",
    "\n",
    "- If model performs well offline, but not online. Need to debug."
   ]
  },
  {
   "cell_type": "markdown",
   "id": "6c99e543-5732-4d06-ae2b-676177b89b61",
   "metadata": {},
   "source": []
  }
 ],
 "metadata": {
  "kernelspec": {
   "display_name": "Python 3 (ipykernel)",
   "language": "python",
   "name": "python3"
  },
  "language_info": {
   "codemirror_mode": {
    "name": "ipython",
    "version": 3
   },
   "file_extension": ".py",
   "mimetype": "text/x-python",
   "name": "python",
   "nbconvert_exporter": "python",
   "pygments_lexer": "ipython3",
   "version": "3.9.10"
  }
 },
 "nbformat": 4,
 "nbformat_minor": 5
}
