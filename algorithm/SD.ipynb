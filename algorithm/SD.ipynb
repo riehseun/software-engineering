{
 "cells": [
  {
   "cell_type": "markdown",
   "id": "9c96bfe5-9eb0-450c-be39-aeb5ecd03cc1",
   "metadata": {},
   "source": [
    "# Overview (Example: Twitter)\n",
    "\n",
    "## Requirement clarification\n",
    "\n",
    "- Do users post tweets and follow other people?\n",
    "- Do users search tweets?\n",
    "- Need to display user timeline?\n",
    "- Need to push notification on new tweets?\n",
    "- Need to display trending topics?\n",
    "- Do tweets contain photos and videos?\n",
    "- Are we discussing backend only or frontend too?\n",
    "\n",
    "## System estimation\n",
    "\n",
    "- Numer of tweets? Number of users? \n",
    "- Size of storage?\n",
    "- Network bandwidth?\n",
    "\n",
    "## System interface\n",
    "\n",
    "- What APIs are expected?\n",
    "\n",
    "## Data model\n",
    "\n",
    "- User (UserID, Name, Email, CreationDate, LastLogin, etc)\n",
    "- Tweet (TweetID, Content, TimeStamp, etc)\n",
    "- UserFollow (UserID1, UserID2)\n",
    "\n",
    "## High-level design\n",
    "\n",
    "- Multiple app servers to do read/write with LoadBalancer in front.\n",
    "- Efficient DB to store all tweets and support large number of reads.\n",
    "- Distributed file storage to store photos and videos.\n",
    "\n",
    "## Detailed design\n",
    "\n",
    "- How to partition data and distribute it to multiple DBs.\n",
    "- How to handle \"hot\" users.\n",
    "- At which layer should we introduce cache. \n",
    "\n",
    "## Identify bottleneck\n",
    "\n",
    "- Is there a single point of failure?\n",
    "- Do we have replicas of data?\n",
    "- Do we have availability set of app servers?\n",
    "- Do we monitor servers and get alerts?"
   ]
  },
  {
   "cell_type": "markdown",
   "id": "144013f8-7afa-4a40-976e-bb00bc70ad21",
   "metadata": {},
   "source": []
  },
  {
   "cell_type": "markdown",
   "id": "dc751ea5-2f9a-421f-ad3f-fb4c9c998fdb",
   "metadata": {},
   "source": [
    "# Design Typeahead Suggestion\n",
    "\n",
    "## Functional requirement\n",
    "\n",
    "- Suggests top 10 terms starting with whatever user has typed.\n",
    "\n",
    "## Non-functional requirement\n",
    "\n",
    "- Users see suggestions within 200ms."
   ]
  },
  {
   "cell_type": "markdown",
   "id": "a90e0680-c3b8-4f7a-a517-dab23e6be4fd",
   "metadata": {},
   "source": [
    "# Design API Rate Limiter\n",
    "\n",
    "- Prevents Dos attack, brute force password attempts, etc.\n",
    "- Throttling: control the usage of API. When throttle limit is reached, server returns “429 - Too many requests\".\n",
    "\n",
    "## Functional requirement\n",
    "\n",
    "- Limit number of requests (Eg. 15 requests per second)\n",
    "- APIs are accessible through a cluster.\n",
    "\n",
    "## Non-functional requirement\n",
    "\n",
    "- High availability.\n",
    "- Low latency.\n",
    "\n",
    "## High-level design\n",
    "\n",
    "- Client <-> web server <-> rate limiter\n",
    "- Client <-> web server <-> API server\n",
    "- Web server first asks rate limiter whether request should be served or throttled."
   ]
  },
  {
   "cell_type": "markdown",
   "id": "dbed7dc4-74cb-4fa2-bd61-3b46c8cc786c",
   "metadata": {},
   "source": [
    "# Design Twitter Search\n",
    "\n",
    "- Search over all user tweets.\n",
    "\n",
    "## Capacity estimate\n",
    "\n",
    "- Assume\n",
    "    - 1.5B total users, 800M daily active users.\n",
    "    - 400M tweets per day.\n",
    "    - Each tweet is 300 bytes.\n",
    "    - 500M searches per day.\n",
    "    - Search query contains multiple words.\n",
    "- Storage: (400M tweets/day) * (300 bytes/tweet) = 120GB/day = 1.38MB/s\n",
    "\n",
    "## API\n",
    "\n",
    "- search(api_dev_key, search_terms, max_results_to_return)\n",
    "\n",
    "## High-level design\n",
    "\n",
    "- Client <-> app server <-> DB server"
   ]
  },
  {
   "cell_type": "markdown",
   "id": "e141f096-157d-467d-824e-1dd39b4e9542",
   "metadata": {},
   "source": [
    "# Design Web Crawler\n",
    "\n",
    "## High-level design\n",
    "\n",
    "- Pick a URL from unvisited URL list.\n",
    "- Determine the ID address.\n",
    "- Download the document.\n",
    "- Parse document contents to look for new URLs.\n",
    "- Add new URLs to unvisited URL list.\n",
    "- Process downloaded document."
   ]
  },
  {
   "cell_type": "markdown",
   "id": "e1861be6-6d21-42fe-bb3c-30214f183e6e",
   "metadata": {},
   "source": [
    "# Design Facebook Newsfeed\n",
    "\n",
    "## Functional requirement\n",
    "\n",
    "- Feed is generated based on posts that user follows.\n",
    "- Feed may contain images, videos, texts.\n",
    "- Supports adding new posts as they arrive.\n",
    "\n",
    "## Non-functional requirement\n",
    "\n",
    "- Generates feeds in real-time, with latency less than 2s.\n",
    "\n",
    "## Capacity estimate\n",
    "\n",
    "- Assume\n",
    "    - User has 300 friends.\n",
    "    - User follows 200 pages.\n",
    "    - 300M daily active users.\n",
    "    - User fetches timeline 5 times a day.\n",
    "- Traffic\n",
    "    - 1.5B feed requests per day or 17500 requests per second.\n",
    "- Storage\n",
    "\n",
    "## API\n",
    "\n",
    "- getUserFeed(api_dev_key, user_id)\n",
    "\n",
    "## DB"
   ]
  },
  {
   "cell_type": "markdown",
   "id": "cff48ed2-fddb-41c7-ad53-b4a378d5e66c",
   "metadata": {},
   "source": [
    "# Design Yelp"
   ]
  },
  {
   "cell_type": "markdown",
   "id": "2ce124c7-e958-46f1-9453-d8b28f1d6456",
   "metadata": {},
   "source": [
    "# Design Uber "
   ]
  },
  {
   "cell_type": "markdown",
   "id": "99d87bc4-4f2e-4b29-b7a3-f22a2ef48bbb",
   "metadata": {},
   "source": [
    "# Design Ticketmaster"
   ]
  },
  {
   "cell_type": "code",
   "execution_count": null,
   "id": "3426184f-9a3d-451e-ad09-3b4c49a09d06",
   "metadata": {},
   "outputs": [],
   "source": []
  }
 ],
 "metadata": {
  "kernelspec": {
   "display_name": "Python 3 (ipykernel)",
   "language": "python",
   "name": "python3"
  },
  "language_info": {
   "codemirror_mode": {
    "name": "ipython",
    "version": 3
   },
   "file_extension": ".py",
   "mimetype": "text/x-python",
   "name": "python",
   "nbconvert_exporter": "python",
   "pygments_lexer": "ipython3",
   "version": "3.9.10"
  }
 },
 "nbformat": 4,
 "nbformat_minor": 5
}
