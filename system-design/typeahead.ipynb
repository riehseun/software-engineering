{
 "cells": [
  {
   "cell_type": "markdown",
   "id": "de39a3db-b4cc-4379-8527-0cd97e5f1759",
   "metadata": {},
   "source": [
    "Use LRU eviction policy.# Typeahead \n",
    "\n",
    "## Functional \n",
    "- Suggests top 10 terms starting with whatever user has typed.\n",
    "\n",
    "## Non-functional \n",
    "- Users see suggestions within 200ms.\n",
    "\n",
    "## Design\n",
    "- Trie structure.\n",
    "- Store this data structure in memory. (Not in DB)\n",
    "- Assume case insensitive\n",
    "\n",
    "<img src=\"img/typeahead1.png\" style=\"width:200px;height:500px;\">\n",
    "\n",
    "- For example, when user types \"CAP\", node \"P\" will show all suggestions.\n",
    "\n",
    "### How to find top suggestions\n",
    "- Store the number of searches in the last phrase.\n",
    "- Parent nodes recursively call child nodes to get suggestions and counts.\n",
    "\n",
    "### How to update trie\n",
    "- Spread copies of tries on each server and update them offline. (While some nodes are serving the traffic)\n",
    "- Also, remove inappropriate terms from the tries duing this time.\n",
    "- Also, update frequency at each node.\n",
    "\n",
    "### Client behavior\n",
    "- Client should hit the server only when no key has been pressed for 50ms.\n",
    "- When user is typing, client should cancel in-progress request.\n",
    "- Client should wait until at least few characters are entered in the beginning.\n",
    "- Client can store recent history of top suggestions.\n",
    "- Establish connection between client and server as soon as browser opens up.\n",
    "- Server should push some part of cache to CDNs.\n",
    "\n",
    "## Capacity\n",
    "\n",
    "### Assume\n",
    "- 5B quries per day = 60K queries per second.\n",
    "- From 5B queries, 100M are unique terms.\n",
    "- Each query is 30 bytes.\n",
    "\n",
    "### Storage\n",
    "- Total storage needed: 100M * 30 bytes = 3GB\n",
    "\n",
    "## Data partitioning\n",
    "- Range based partitioning\n",
    "    - Pick storage based on starting character of queries.\n",
    "    - Results in uneven servers\n",
    "    - There will be hot servers.\n",
    "    - May not be able to fit the size of data into each server.\n",
    "- Hash based partitioning\n",
    "    - Each term gets a server number from hash function. \n",
    "    - Minimize hot servers.\n",
    "    - Must query all servers and aggregate the result.\n",
    "\n",
    "## Caching\n",
    "- Cache servers in front of trie servers with frequenctly searched terms and their typeahead suggestions.\n",
    "- App servers should check cache servers before hitting trie servers."
   ]
  },
  {
   "cell_type": "code",
   "execution_count": null,
   "id": "a2dfeca4-986c-44fb-bd2f-759d65196599",
   "metadata": {},
   "outputs": [],
   "source": []
  }
 ],
 "metadata": {
  "kernelspec": {
   "display_name": "Python 3 (ipykernel)",
   "language": "python",
   "name": "python3"
  },
  "language_info": {
   "codemirror_mode": {
    "name": "ipython",
    "version": 3
   },
   "file_extension": ".py",
   "mimetype": "text/x-python",
   "name": "python",
   "nbconvert_exporter": "python",
   "pygments_lexer": "ipython3",
   "version": "3.9.10"
  }
 },
 "nbformat": 4,
 "nbformat_minor": 5
}
