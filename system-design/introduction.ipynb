{
 "cells": [
  {
   "cell_type": "markdown",
   "id": "9c96bfe5-9eb0-450c-be39-aeb5ecd03cc1",
   "metadata": {},
   "source": [
    "# Overview (Example: Twitter)\n",
    "\n",
    "## Requirement clarification\n",
    "\n",
    "- Do users post tweets and follow other people?\n",
    "- Do users search tweets?\n",
    "- Need to display user timeline?\n",
    "- Need to push notification on new tweets?\n",
    "- Need to display trending topics?\n",
    "- Do tweets contain photos and videos?\n",
    "- Are we discussing backend only or frontend too?\n",
    "\n",
    "## System estimation\n",
    "\n",
    "- Numer of tweets? Number of users? \n",
    "- Size of storage?\n",
    "- Network bandwidth?\n",
    "\n",
    "## System interface\n",
    "\n",
    "- What APIs are expected?\n",
    "\n",
    "## Data model\n",
    "\n",
    "- User (UserID, Name, Email, CreationDate, LastLogin, etc)\n",
    "- Tweet (TweetID, Content, TimeStamp, etc)\n",
    "- UserFollow (UserID1, UserID2)\n",
    "\n",
    "## High-level design\n",
    "\n",
    "- Multiple app servers to do read/write with LoadBalancer in front.\n",
    "- Efficient DB to store all tweets and support large number of reads.\n",
    "- Distributed file storage to store photos and videos.\n",
    "\n",
    "## Detailed design\n",
    "\n",
    "- How to partition data and distribute it to multiple DBs.\n",
    "- How to handle \"hot\" users.\n",
    "- At which layer should we introduce cache. \n",
    "\n",
    "## Identify bottleneck\n",
    "\n",
    "- Is there a single point of failure?\n",
    "- Do we have replicas of data?\n",
    "- Do we have availability set of app servers?\n",
    "- Do we monitor servers and get alerts?"
   ]
  },
  {
   "cell_type": "code",
   "execution_count": null,
   "id": "3426184f-9a3d-451e-ad09-3b4c49a09d06",
   "metadata": {},
   "outputs": [],
   "source": []
  }
 ],
 "metadata": {
  "kernelspec": {
   "display_name": "Python 3 (ipykernel)",
   "language": "python",
   "name": "python3"
  },
  "language_info": {
   "codemirror_mode": {
    "name": "ipython",
    "version": 3
   },
   "file_extension": ".py",
   "mimetype": "text/x-python",
   "name": "python",
   "nbconvert_exporter": "python",
   "pygments_lexer": "ipython3",
   "version": "3.9.10"
  }
 },
 "nbformat": 4,
 "nbformat_minor": 5
}
