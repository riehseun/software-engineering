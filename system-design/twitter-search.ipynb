{
 "cells": [
  {
   "cell_type": "markdown",
   "id": "1e5c4f8e-e1b2-46ed-a26b-6d3d75deeb3a",
   "metadata": {},
   "source": [
    "# Twitter Search\n",
    "- Search over all user Tweets.\n",
    "\n",
    "## Capacity\n",
    "\n",
    "Assume\n",
    "- 1.5B total users, 800M daily active users.\n",
    "- 400M tweets per day.\n",
    "- Each Tweet is 300 bytes.\n",
    "- 500M searches per day.\n",
    "- Search query contains multiple words combined with AND/OR.\n",
    "\n",
    "Storage\n",
    "- (400M tweets/day) * (300 bytes/tweet) = 120GB/day = 1.38MB/s\n",
    "- In 5 years, 120GB * 365 days * 5 years = 200TB\n",
    "- Apply safety factor, so aim at 250TB\n",
    "- If extra copy for fault tolerance, 500TB\n",
    "\n",
    "## API\n",
    "- search(api_dev_key, search_terms, max_results_to_return)\n",
    "    - Returns JSON with list of Tweets matching the search query.\n",
    "\n",
    "## Design\n",
    "- Two columns: TweetId and TweetText.\n",
    "- Need 400M * 365 days * 5 years => 730 billion TweetIds (5 bytes)\n",
    "- Feed TweetId into a hash function to identify a server to store Tweet.\n",
    "\n",
    "Index\n",
    "- Distributed hash table where key is word and value is list of TweetIds whose Tweet contains that word.\n",
    "- We already did \"Feed TweetId into a hash function to identify a server to store Tweet\".\n",
    "- Then, for each server that stores Tweets, build an index on that server.\n",
    "- When serving queries, aggregate result from each server and return them to users.\n",
    "\n",
    "<img src=\"img/twitter_search1.png\" style=\"width:600px;height:800px;\">\n",
    "\n",
    "Fault Tolerance\n",
    "- Maintain replicas for each index server.\n",
    "- If primay and backups die all together, rebuild index server from a reverse hash table.\n",
    "    - Key is index server number and value is all TweetIds (In a form of hash)\n",
    "    \n",
    "## Caching\n",
    "- Use LRU eviction policy."
   ]
  },
  {
   "cell_type": "code",
   "execution_count": null,
   "id": "bfc6ebcb-d053-4ebc-8817-335d9535b84b",
   "metadata": {},
   "outputs": [],
   "source": []
  }
 ],
 "metadata": {
  "kernelspec": {
   "display_name": "Python 3 (ipykernel)",
   "language": "python",
   "name": "python3"
  },
  "language_info": {
   "codemirror_mode": {
    "name": "ipython",
    "version": 3
   },
   "file_extension": ".py",
   "mimetype": "text/x-python",
   "name": "python",
   "nbconvert_exporter": "python",
   "pygments_lexer": "ipython3",
   "version": "3.9.10"
  }
 },
 "nbformat": 4,
 "nbformat_minor": 5
}
