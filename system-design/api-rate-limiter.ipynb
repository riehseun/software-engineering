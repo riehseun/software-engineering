{
 "cells": [
  {
   "cell_type": "markdown",
   "id": "afa4e1fb-57ca-481f-88d5-722532eaba5f",
   "metadata": {},
   "source": [
    "# API rate limiter\n",
    "\n",
    "## Functional\n",
    "- Limits the number of request within a time window.\n",
    "- User can get the proper error message.\n",
    "\n",
    "## Non-functional\n",
    "- High availability.\n",
    "- Low latency.\n",
    "\n",
    "## Design\n",
    "- Web server asks rate limiter whether the request should be served or throttled.\n",
    "\n",
    "<img src=\"img/api-rate-limiter1.png\" style=\"width:500px;height:500px;\">\n",
    "\n",
    "1. Fixed window\n",
    "- Use hash table where key is UserId and value is {count, start time as epoch time}.\n",
    "- Start time is always normalized at minute. (Start time is reset at the end of every minute)\n",
    "- Compute difference between current time and start time and if the diff is less than 1 minute, check count to decide whether to allow or reject the request.\n",
    "- Assume the limit per minute is 3. User can send 3 requests at the last second of minute and another 3 request at the first second of the next minute. This results in 6 requests in two seconds, which will be a spike.\n",
    "\n",
    "2. Sliding window\n",
    "- Use hash table where key is UserId and value is a sorted set of epoch time.\n",
    "- Remove all timestamps older than current time - 1 minute.\n",
    "- Check the length of sorted set to decide whether to allow or reject the request.\n",
    "- If accept the request, add current time in sorted set.\n",
    "- Maintaining the sorted set requires much more memory than the previous approach.\n",
    "\n",
    "3. Sliding window with counter\n",
    "- For each user, use hash table where key is timestamp (starting at each minute) and value is counter.\n",
    "\n",
    "Rate limit by IP or user?\n",
    "- IP only\n",
    "    - What if multiple users use a single public IP?\n",
    "    - Hacker can easily impersonate a lot of users using IPv6 addresses.\n",
    "- User only\n",
    "    - Rate limit on API with valid authentication token.\n",
    "    - We cannot rate limit on login API itself.\n",
    "- We should rate limit on per IP per user.    \n",
    "   \n",
    "## Data partitioning\n",
    "- Shard based on UserID.\n",
    "- Use consistent hashing for fault tolerance and replication.\n",
    "\n",
    "## Caching\n",
    "- Cache recent active users.\n",
    "- Use write-back cache.\n",
    "- Use LRU eviction policy."
   ]
  },
  {
   "cell_type": "code",
   "execution_count": null,
   "id": "75bec398-79a4-48c6-9d39-e0a8692df8d8",
   "metadata": {},
   "outputs": [],
   "source": []
  }
 ],
 "metadata": {
  "kernelspec": {
   "display_name": "Python 3 (ipykernel)",
   "language": "python",
   "name": "python3"
  },
  "language_info": {
   "codemirror_mode": {
    "name": "ipython",
    "version": 3
   },
   "file_extension": ".py",
   "mimetype": "text/x-python",
   "name": "python",
   "nbconvert_exporter": "python",
   "pygments_lexer": "ipython3",
   "version": "3.9.10"
  }
 },
 "nbformat": 4,
 "nbformat_minor": 5
}
