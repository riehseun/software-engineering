{
 "cells": [
  {
   "cell_type": "markdown",
   "id": "1f946625-5bb6-4d3f-a8c6-339f271102d3",
   "metadata": {},
   "source": [
    "ML infrastructure\n",
    "- S: Whole team was manually constructing hundres of spec or yaml files to provision infrastructure for machine learnig case. A lot of information we were providing to those files were duplicate.\n",
    "- T&A: Came up with using one config file where we supply minimum information. Then build a set of scripts in python and bash to automatically gnenrate all those spec or yaml files based on that one config file.\n",
    "- R: Use case infra provision, which used to take 4-6 weeks were reduced to less than 2 weeks.\n",
    "\n",
    "AKS\n",
    "- S: The cluster was not robust in general. (Lacking monitoring / security)\n",
    "- T&A: Deployment datadog, kube-state-metric, and kured using helm chart\n",
    "- R: The time to notice CPU & memory related outage was cut by 1-2 days in general for each outage (Engineers solve before users can notice) The time and effort to reboot AKS nodes manually by checking the condition inside the machine is eliminated. (15-30 mins per day)\n",
    "\n",
    "DevOps pipeline\n",
    "- S: When users make mistakes in pipeline configurations, they had to go back to a new PR. There was no way update deployment configuration for inflight releases.\n",
    "- T&A: Came up with a way to allow users to invoke a separate release which targets the original release to update its deployment variables. This design passed the audit because the separate release will be triggered by git, which we treat as source of truth for all deployments.\n",
    "- R: User feedback was the their deployment time got reduced by 2-3 times on average because they didn't have to go back to the beginning releazing the mistake during the release."
   ]
  },
  {
   "cell_type": "code",
   "execution_count": 1,
   "id": "0ef0e651-2329-41ae-8128-d35fb2fd7a7f",
   "metadata": {},
   "outputs": [],
   "source": [
    "# Caculated risk and take\n",
    "# Disaggreement with team member\n",
    "# Had to pursuade the team\n",
    "# Had to go beyond my responsibility\n",
    "# Build something from scratch\n",
    "# Most challening experience"
   ]
  },
  {
   "cell_type": "code",
   "execution_count": null,
   "id": "a5b9a769-d060-44f1-b6bf-942d0bd19db5",
   "metadata": {},
   "outputs": [],
   "source": []
  }
 ],
 "metadata": {
  "kernelspec": {
   "display_name": "Python 3 (ipykernel)",
   "language": "python",
   "name": "python3"
  },
  "language_info": {
   "codemirror_mode": {
    "name": "ipython",
    "version": 3
   },
   "file_extension": ".py",
   "mimetype": "text/x-python",
   "name": "python",
   "nbconvert_exporter": "python",
   "pygments_lexer": "ipython3",
   "version": "3.9.10"
  }
 },
 "nbformat": 4,
 "nbformat_minor": 5
}
