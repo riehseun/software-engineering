{
 "cells": [
  {
   "cell_type": "markdown",
   "id": "509ea745-96e4-4883-a2ba-9ed15e719f32",
   "metadata": {},
   "source": [
    "# Quicksort"
   ]
  },
  {
   "cell_type": "markdown",
   "id": "b1c83876-900a-4bb9-9675-121bc34122ff",
   "metadata": {},
   "source": [
    "# Mergesort"
   ]
  },
  {
   "cell_type": "markdown",
   "id": "9f6f4f50-ac18-4bb5-9f9a-75150f47ffa6",
   "metadata": {},
   "source": [
    "# Breath first search"
   ]
  },
  {
   "cell_type": "markdown",
   "id": "9ff292ef-0857-4209-8dfa-cce31f877318",
   "metadata": {},
   "source": [
    "# Depth first search"
   ]
  },
  {
   "cell_type": "markdown",
   "id": "984d4717-59a1-4784-a5f1-e735435fe259",
   "metadata": {},
   "source": [
    "# Binary search"
   ]
  },
  {
   "cell_type": "markdown",
   "id": "5327fa6c-0e04-4b29-942e-e4e4558f4a5e",
   "metadata": {},
   "source": [
    "# Array / List "
   ]
  },
  {
   "cell_type": "markdown",
   "id": "b86c5e35-3bc6-42ea-8c2c-125cf290af45",
   "metadata": {},
   "source": [
    "# Hash table"
   ]
  },
  {
   "cell_type": "markdown",
   "id": "ea4599c2-b1ce-44fd-a333-e17c831551f6",
   "metadata": {},
   "source": [
    "# Tree"
   ]
  },
  {
   "cell_type": "markdown",
   "id": "e0e931ad-bb5c-4e1c-ab52-ea25516239f8",
   "metadata": {},
   "source": [
    "# Graph"
   ]
  },
  {
   "cell_type": "markdown",
   "id": "43d0db6a-6e91-4205-bb4e-96024e3b4442",
   "metadata": {},
   "source": [
    "# Stack"
   ]
  },
  {
   "cell_type": "markdown",
   "id": "d69f0801-1b90-4dc9-ba19-28fba28ec260",
   "metadata": {},
   "source": [
    "# Queue"
   ]
  },
  {
   "cell_type": "markdown",
   "id": "08145b0f-26f8-4acf-939b-5655704fd674",
   "metadata": {},
   "source": [
    "# Heap"
   ]
  },
  {
   "cell_type": "code",
   "execution_count": null,
   "id": "6921af98-fdb7-4fcc-a8ae-29bcb122d78d",
   "metadata": {},
   "outputs": [],
   "source": []
  }
 ],
 "metadata": {
  "kernelspec": {
   "display_name": "Python 3 (ipykernel)",
   "language": "python",
   "name": "python3"
  },
  "language_info": {
   "codemirror_mode": {
    "name": "ipython",
    "version": 3
   },
   "file_extension": ".py",
   "mimetype": "text/x-python",
   "name": "python",
   "nbconvert_exporter": "python",
   "pygments_lexer": "ipython3",
   "version": "3.9.10"
  }
 },
 "nbformat": 4,
 "nbformat_minor": 5
}
