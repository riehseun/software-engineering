{
 "cells": [
  {
   "cell_type": "code",
   "execution_count": 12,
   "id": "87379e0c-ebbe-414b-82ff-246f39dbefc0",
   "metadata": {},
   "outputs": [],
   "source": [
    "import random\n",
    "\n",
    "from utils import openfile, convert_string_to_integer_in_list"
   ]
  },
  {
   "cell_type": "markdown",
   "id": "e1d027a9-c425-4501-9742-f823b7721ee2",
   "metadata": {},
   "source": [
    "# Quicksort\n",
    "\n",
    "- Choose a random pivot.\n",
    "- Sort such that.\n",
    "    - Everything less than pivot is placed on the left.\n",
    "    - Everything greater than piviot is placed on the right.\n",
    "- Time: $O(nlogn)$ on average. (worst case is $O(n^{2})$ when the pivot is always chosen the worst possible way)\n",
    "- Space: $O(1)$ sorts in place.\n",
    "\n",
    "## Pseducode\n",
    "\n",
    "```\n",
    "Partition(A,l,r) # input = A[l ... r]\n",
    "P = A[l] # for example, pick first element as pivot\n",
    "i = l+1\n",
    "For i = l+1 to r\n",
    "    if A[j] < P\n",
    "        Swap A[j] and A[i]\n",
    "        i++\n",
    "Swap A[l] and A[i-1]\n",
    "```\n",
    "\n",
    "```\n",
    "Quicksort(array A, length n)\n",
    "If n=1\n",
    "    return\n",
    "p = choosepivot(A, n)\n",
    "Partition A around P\n",
    "Recursively sort 1st part\n",
    "Recursively sort 2nd part\n",
    "```"
   ]
  },
  {
   "cell_type": "code",
   "execution_count": 13,
   "id": "fd4fdc69-b8f4-4383-a744-6ac969426f5c",
   "metadata": {},
   "outputs": [],
   "source": [
    "input1 = convert_string_to_integer_in_list(openfile(\"data/quicksort1.txt\"))\n",
    "input2 = convert_string_to_integer_in_list(openfile(\"data/quicksort2.txt\"))"
   ]
  },
  {
   "cell_type": "code",
   "execution_count": 17,
   "id": "a108c4de-1996-4b1d-8a80-c77d0aced527",
   "metadata": {},
   "outputs": [],
   "source": [
    "def partition(array, start_index, end_index, pivot):\n",
    "    \"\"\"\n",
    "    Swaps elements so that all less than the pivot \n",
    "    is placed on the left side and all greater than \n",
    "    the pivot is placed on the right side.\n",
    "    \n",
    "    Args:\n",
    "        array -- An array to do swap operations.\n",
    "        start_index -- The index of array to apply partitioning from.\n",
    "        end_index -- The index of array to apply partitioning to.\n",
    "        pivot -- The pivot element.\n",
    "        \n",
    "    Returns:\n",
    "        An array after swaps are complete.\n",
    "    \"\"\"\n",
    "    \n",
    "    i = start_index + 1\n",
    "    for j in range(start_index + 1, end_index):\n",
    "        if array[j] < pivot:\n",
    "            # Swap ith and jth element.\n",
    "            temp = array[i]\n",
    "            array[i] = array[j]\n",
    "            array[j] = temp\n",
    "            i = i + 1\n",
    "    \n",
    "    # # Swap item at start_index and item at i-1.\n",
    "    # array[start_index] = temp\n",
    "    # array[start_index] = array[i-1]\n",
    "    # array[i-1] = temp\n",
    "            "
   ]
  },
  {
   "cell_type": "code",
   "execution_count": 18,
   "id": "641c04cc-9782-4723-98f3-e430059f4779",
   "metadata": {},
   "outputs": [],
   "source": [
    "def quicksort(array, start_index, end_index):\n",
    "    \"\"\"\n",
    "    Implements quicksort algorithm.\n",
    "    \n",
    "    Args:\n",
    "        array -- An array of integers.\n",
    "        start_index -- The index of array to apply sorting from.\n",
    "        end_index -- The index of array to apply sorting to.\n",
    "    \n",
    "    Returns:\n",
    "        Sorted array of integers.\n",
    "    \"\"\"\n",
    "    \n",
    "    if len(array) <= 1:\n",
    "        return\n",
    "    \n",
    "    pivot = random.choice(array)\n",
    "    pivot_index = array.index(pivot)\n",
    "    partition(array, start_index, end_index, pivot)\n",
    "    quicksort(array, start_index, pivot_index)  # Sorts the left half.\n",
    "    quicksort(array, pivot_index, end_index)  # Sorts the right half.            "
   ]
  },
  {
   "cell_type": "code",
   "execution_count": 19,
   "id": "71340055-34f7-4987-b067-72ab1d906d3e",
   "metadata": {},
   "outputs": [
    {
     "ename": "RecursionError",
     "evalue": "maximum recursion depth exceeded while calling a Python object",
     "output_type": "error",
     "traceback": [
      "\u001b[0;31m---------------------------------------------------------------------------\u001b[0m",
      "\u001b[0;31mRecursionError\u001b[0m                            Traceback (most recent call last)",
      "Input \u001b[0;32mIn [19]\u001b[0m, in \u001b[0;36m<cell line: 1>\u001b[0;34m()\u001b[0m\n\u001b[0;32m----> 1\u001b[0m \u001b[43mquicksort\u001b[49m\u001b[43m(\u001b[49m\u001b[43minput1\u001b[49m\u001b[43m,\u001b[49m\u001b[43m \u001b[49m\u001b[38;5;241;43m0\u001b[39;49m\u001b[43m,\u001b[49m\u001b[43m \u001b[49m\u001b[38;5;28;43mlen\u001b[39;49m\u001b[43m(\u001b[49m\u001b[43minput1\u001b[49m\u001b[43m)\u001b[49m\u001b[38;5;241;43m-\u001b[39;49m\u001b[38;5;241;43m1\u001b[39;49m\u001b[43m)\u001b[49m\n\u001b[1;32m      2\u001b[0m \u001b[38;5;28mprint\u001b[39m(input1)\n",
      "Input \u001b[0;32mIn [18]\u001b[0m, in \u001b[0;36mquicksort\u001b[0;34m(array, start_index, end_index)\u001b[0m\n\u001b[1;32m     18\u001b[0m pivot_index \u001b[38;5;241m=\u001b[39m array\u001b[38;5;241m.\u001b[39mindex(pivot)\n\u001b[1;32m     19\u001b[0m partition(array, start_index, end_index, pivot)\n\u001b[0;32m---> 20\u001b[0m \u001b[43mquicksort\u001b[49m\u001b[43m(\u001b[49m\u001b[43marray\u001b[49m\u001b[43m,\u001b[49m\u001b[43m \u001b[49m\u001b[43mstart_index\u001b[49m\u001b[43m,\u001b[49m\u001b[43m \u001b[49m\u001b[43mpivot_index\u001b[49m\u001b[43m)\u001b[49m  \u001b[38;5;66;03m# Sorts the left half.\u001b[39;00m\n\u001b[1;32m     21\u001b[0m quicksort(array, pivot_index, end_index)\n",
      "Input \u001b[0;32mIn [18]\u001b[0m, in \u001b[0;36mquicksort\u001b[0;34m(array, start_index, end_index)\u001b[0m\n\u001b[1;32m     18\u001b[0m pivot_index \u001b[38;5;241m=\u001b[39m array\u001b[38;5;241m.\u001b[39mindex(pivot)\n\u001b[1;32m     19\u001b[0m partition(array, start_index, end_index, pivot)\n\u001b[0;32m---> 20\u001b[0m \u001b[43mquicksort\u001b[49m\u001b[43m(\u001b[49m\u001b[43marray\u001b[49m\u001b[43m,\u001b[49m\u001b[43m \u001b[49m\u001b[43mstart_index\u001b[49m\u001b[43m,\u001b[49m\u001b[43m \u001b[49m\u001b[43mpivot_index\u001b[49m\u001b[43m)\u001b[49m  \u001b[38;5;66;03m# Sorts the left half.\u001b[39;00m\n\u001b[1;32m     21\u001b[0m quicksort(array, pivot_index, end_index)\n",
      "    \u001b[0;31m[... skipping similar frames: quicksort at line 20 (2967 times)]\u001b[0m\n",
      "Input \u001b[0;32mIn [18]\u001b[0m, in \u001b[0;36mquicksort\u001b[0;34m(array, start_index, end_index)\u001b[0m\n\u001b[1;32m     18\u001b[0m pivot_index \u001b[38;5;241m=\u001b[39m array\u001b[38;5;241m.\u001b[39mindex(pivot)\n\u001b[1;32m     19\u001b[0m partition(array, start_index, end_index, pivot)\n\u001b[0;32m---> 20\u001b[0m \u001b[43mquicksort\u001b[49m\u001b[43m(\u001b[49m\u001b[43marray\u001b[49m\u001b[43m,\u001b[49m\u001b[43m \u001b[49m\u001b[43mstart_index\u001b[49m\u001b[43m,\u001b[49m\u001b[43m \u001b[49m\u001b[43mpivot_index\u001b[49m\u001b[43m)\u001b[49m  \u001b[38;5;66;03m# Sorts the left half.\u001b[39;00m\n\u001b[1;32m     21\u001b[0m quicksort(array, pivot_index, end_index)\n",
      "Input \u001b[0;32mIn [18]\u001b[0m, in \u001b[0;36mquicksort\u001b[0;34m(array, start_index, end_index)\u001b[0m\n\u001b[1;32m     14\u001b[0m \u001b[38;5;28;01mif\u001b[39;00m \u001b[38;5;28mlen\u001b[39m(array) \u001b[38;5;241m<\u001b[39m\u001b[38;5;241m=\u001b[39m \u001b[38;5;241m1\u001b[39m:\n\u001b[1;32m     15\u001b[0m     \u001b[38;5;28;01mreturn\u001b[39;00m\n\u001b[0;32m---> 17\u001b[0m pivot \u001b[38;5;241m=\u001b[39m \u001b[43mrandom\u001b[49m\u001b[38;5;241;43m.\u001b[39;49m\u001b[43mchoice\u001b[49m\u001b[43m(\u001b[49m\u001b[43marray\u001b[49m\u001b[43m)\u001b[49m\n\u001b[1;32m     18\u001b[0m pivot_index \u001b[38;5;241m=\u001b[39m array\u001b[38;5;241m.\u001b[39mindex(pivot)\n\u001b[1;32m     19\u001b[0m partition(array, start_index, end_index, pivot)\n",
      "File \u001b[0;32m/opt/conda/lib/python3.9/random.py:346\u001b[0m, in \u001b[0;36mRandom.choice\u001b[0;34m(self, seq)\u001b[0m\n\u001b[1;32m    344\u001b[0m \u001b[38;5;124;03m\"\"\"Choose a random element from a non-empty sequence.\"\"\"\u001b[39;00m\n\u001b[1;32m    345\u001b[0m \u001b[38;5;66;03m# raises IndexError if seq is empty\u001b[39;00m\n\u001b[0;32m--> 346\u001b[0m \u001b[38;5;28;01mreturn\u001b[39;00m seq[\u001b[38;5;28;43mself\u001b[39;49m\u001b[38;5;241;43m.\u001b[39;49m\u001b[43m_randbelow\u001b[49m\u001b[43m(\u001b[49m\u001b[38;5;28;43mlen\u001b[39;49m\u001b[43m(\u001b[49m\u001b[43mseq\u001b[49m\u001b[43m)\u001b[49m\u001b[43m)\u001b[49m]\n",
      "File \u001b[0;32m/opt/conda/lib/python3.9/random.py:243\u001b[0m, in \u001b[0;36mRandom._randbelow_with_getrandbits\u001b[0;34m(self, n)\u001b[0m\n\u001b[1;32m    241\u001b[0m     \u001b[38;5;28;01mreturn\u001b[39;00m \u001b[38;5;241m0\u001b[39m\n\u001b[1;32m    242\u001b[0m getrandbits \u001b[38;5;241m=\u001b[39m \u001b[38;5;28mself\u001b[39m\u001b[38;5;241m.\u001b[39mgetrandbits\n\u001b[0;32m--> 243\u001b[0m k \u001b[38;5;241m=\u001b[39m \u001b[43mn\u001b[49m\u001b[38;5;241;43m.\u001b[39;49m\u001b[43mbit_length\u001b[49m\u001b[43m(\u001b[49m\u001b[43m)\u001b[49m  \u001b[38;5;66;03m# don't use (n-1) here because n can be 1\u001b[39;00m\n\u001b[1;32m    244\u001b[0m r \u001b[38;5;241m=\u001b[39m getrandbits(k)  \u001b[38;5;66;03m# 0 <= r < 2**k\u001b[39;00m\n\u001b[1;32m    245\u001b[0m \u001b[38;5;28;01mwhile\u001b[39;00m r \u001b[38;5;241m>\u001b[39m\u001b[38;5;241m=\u001b[39m n:\n",
      "\u001b[0;31mRecursionError\u001b[0m: maximum recursion depth exceeded while calling a Python object"
     ]
    }
   ],
   "source": [
    "quicksort(input1, 0, len(input1)-1)\n",
    "print(input1)"
   ]
  },
  {
   "cell_type": "markdown",
   "id": "b1c83876-900a-4bb9-9675-121bc34122ff",
   "metadata": {},
   "source": [
    "# Mergesort\n",
    "\n",
    "- Recursively sort 1st and 2nd half of array.\n",
    "- Combine the result."
   ]
  },
  {
   "cell_type": "markdown",
   "id": "9f6f4f50-ac18-4bb5-9f9a-75150f47ffa6",
   "metadata": {},
   "source": [
    "# Breath first search"
   ]
  },
  {
   "cell_type": "markdown",
   "id": "9ff292ef-0857-4209-8dfa-cce31f877318",
   "metadata": {},
   "source": [
    "# Depth first search"
   ]
  },
  {
   "cell_type": "markdown",
   "id": "984d4717-59a1-4784-a5f1-e735435fe259",
   "metadata": {},
   "source": [
    "# Binary search"
   ]
  },
  {
   "cell_type": "markdown",
   "id": "5327fa6c-0e04-4b29-942e-e4e4558f4a5e",
   "metadata": {},
   "source": [
    "# Array / List "
   ]
  },
  {
   "cell_type": "markdown",
   "id": "b86c5e35-3bc6-42ea-8c2c-125cf290af45",
   "metadata": {},
   "source": [
    "# Hash table"
   ]
  },
  {
   "cell_type": "markdown",
   "id": "ea4599c2-b1ce-44fd-a333-e17c831551f6",
   "metadata": {},
   "source": [
    "# Tree"
   ]
  },
  {
   "cell_type": "markdown",
   "id": "e0e931ad-bb5c-4e1c-ab52-ea25516239f8",
   "metadata": {},
   "source": [
    "# Graph"
   ]
  },
  {
   "cell_type": "markdown",
   "id": "43d0db6a-6e91-4205-bb4e-96024e3b4442",
   "metadata": {},
   "source": [
    "# Stack"
   ]
  },
  {
   "cell_type": "markdown",
   "id": "d69f0801-1b90-4dc9-ba19-28fba28ec260",
   "metadata": {},
   "source": [
    "# Queue"
   ]
  },
  {
   "cell_type": "markdown",
   "id": "08145b0f-26f8-4acf-939b-5655704fd674",
   "metadata": {},
   "source": [
    "# Heap (priority queue)\n",
    "\n",
    "- Perfectly balanced tree.\n",
    "- Root element must have the minimum key.\n",
    "- Insert (add to heap): $O(nlogn)$\n",
    "- Extract (remove an element with minimum key): $O(nlogn)$\n",
    "- Heapify ($n$ batched inserts): : $O(n)$"
   ]
  },
  {
   "cell_type": "code",
   "execution_count": null,
   "id": "6921af98-fdb7-4fcc-a8ae-29bcb122d78d",
   "metadata": {},
   "outputs": [],
   "source": []
  }
 ],
 "metadata": {
  "kernelspec": {
   "display_name": "Python 3 (ipykernel)",
   "language": "python",
   "name": "python3"
  },
  "language_info": {
   "codemirror_mode": {
    "name": "ipython",
    "version": 3
   },
   "file_extension": ".py",
   "mimetype": "text/x-python",
   "name": "python",
   "nbconvert_exporter": "python",
   "pygments_lexer": "ipython3",
   "version": "3.9.10"
  }
 },
 "nbformat": 4,
 "nbformat_minor": 5
}
