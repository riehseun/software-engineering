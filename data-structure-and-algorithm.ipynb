{
 "cells": [
  {
   "cell_type": "code",
   "execution_count": 4,
   "id": "87379e0c-ebbe-414b-82ff-246f39dbefc0",
   "metadata": {},
   "outputs": [],
   "source": [
    "import random\n",
    "\n",
    "from utils import openfile, convert_string_to_integer_in_list"
   ]
  },
  {
   "cell_type": "markdown",
   "id": "e1d027a9-c425-4501-9742-f823b7721ee2",
   "metadata": {},
   "source": [
    "# Quicksort\n",
    "\n",
    "- Choose a random pivot.\n",
    "- Sort such that.\n",
    "    - Everything less than pivot is placed on the left.\n",
    "    - Everything greater than piviot is placed on the right.\n",
    "- Time: $O(nlogn)$ on average. (worst case is $O(n^{2})$ when the pivot is always chosen the worst possible way)\n",
    "- Space: $O(1)$ sorts in place.\n",
    "\n",
    "## Pseducode\n",
    "\n",
    "```\n",
    "Partition(A,l,r) # input = A[l ... r]\n",
    "P = A[l] # for example, pick first element as pivot\n",
    "i = l+1\n",
    "For i = l+1 to r\n",
    "    if A[j] < P\n",
    "        Swap A[j] and A[i]\n",
    "        i++\n",
    "Swap A[l] and A[i-1]\n",
    "```\n",
    "\n",
    "```\n",
    "Quicksort(array A, length n)\n",
    "If n=1\n",
    "    return\n",
    "p = choosepivot(A, n)\n",
    "Partition A around P\n",
    "Recursively sort 1st part\n",
    "Recursively sort 2nd part\n",
    "```"
   ]
  },
  {
   "cell_type": "code",
   "execution_count": 5,
   "id": "fd4fdc69-b8f4-4383-a744-6ac969426f5c",
   "metadata": {},
   "outputs": [],
   "source": [
    "input1 = convert_string_to_integer_in_list(openfile(\"data/quicksort1.txt\"))\n",
    "input2 = convert_string_to_integer_in_list(openfile(\"data/quicksort2.txt\"))"
   ]
  },
  {
   "cell_type": "code",
   "execution_count": 35,
   "id": "a108c4de-1996-4b1d-8a80-c77d0aced527",
   "metadata": {},
   "outputs": [],
   "source": [
    "def partition(array, start_index, end_index):\n",
    "    \"\"\"\n",
    "    Swaps elements so that all less than the pivot \n",
    "    is placed on the left side and all greater than \n",
    "    the pivot is placed on the right side.\n",
    "    \n",
    "    Args:\n",
    "        array -- An array to do swap operations.\n",
    "        start_index -- The index of array to apply partitioning from.\n",
    "        end_index -- The index of array to apply partitioning to.\n",
    "        \n",
    "    Returns:\n",
    "        An array after swaps are complete.\n",
    "    \"\"\"\n",
    "    \n",
    "    # Swap items at pivot and start index.\n",
    "    # temp = array[start_index]\n",
    "    # array[start_index] = array[pivot_index]\n",
    "    # array[pivot_index] = temp \n",
    "    \n",
    "    i = start_index + 1\n",
    "    for j in range(start_index+1, end_index+1):\n",
    "        if array[j] < array[start_index]:\n",
    "            # Swap ith and jth element.\n",
    "            temp = array[i]\n",
    "            array[i] = array[j]\n",
    "            array[j] = temp\n",
    "            i += 1\n",
    "    \n",
    "    # Swap item at start_index and item at i-1.\n",
    "    temp = array[start_index]\n",
    "    array[start_index] = array[i-1]\n",
    "    array[i-1] = temp"
   ]
  },
  {
   "cell_type": "code",
   "execution_count": 42,
   "id": "641c04cc-9782-4723-98f3-e430059f4779",
   "metadata": {},
   "outputs": [],
   "source": [
    "def quicksort(array, start_index, end_index):\n",
    "    \"\"\"\n",
    "    Implements quicksort algorithm.\n",
    "    \n",
    "    Args:\n",
    "        array -- An array of integers.\n",
    "        start_index -- The index of array to apply sorting from.\n",
    "        end_index -- The index of array to apply sorting to.\n",
    "    \n",
    "    Returns:\n",
    "        Sorted array of integers.\n",
    "    \"\"\"\n",
    "    \n",
    "    # If there is only 1 element in the array.\n",
    "    if end_index <= start_index:\n",
    "        return\n",
    "    \n",
    "    # pivot_index = random.randint(start_index, end_index)\n",
    "    partition(array, start_index, end_index)\n",
    "    \n",
    "    print(array)\n",
    "    \n",
    "    quicksort(array, start_index, start_index-1)  # Sorts the left half.\n",
    "    quicksort(array, start_index+1, end_index)  # Sorts the right half.            "
   ]
  },
  {
   "cell_type": "code",
   "execution_count": 43,
   "id": "71340055-34f7-4987-b067-72ab1d906d3e",
   "metadata": {},
   "outputs": [
    {
     "name": "stdout",
     "output_type": "stream",
     "text": [
      "[10, 3, 1, 2, 4, 5, 6, 7, 8, 9, 11, 12, 13, 14, 15, 16, 17, 18, 19, 20]\n",
      "---\n",
      "[9, 3, 1, 2, 4, 5, 6, 7, 8, 10, 11, 12, 13, 14, 15, 16, 17, 18, 19, 20]\n",
      "[9, 2, 1, 3, 4, 5, 6, 7, 8, 10, 11, 12, 13, 14, 15, 16, 17, 18, 19, 20]\n",
      "[9, 2, 1, 3, 4, 5, 6, 7, 8, 10, 11, 12, 13, 14, 15, 16, 17, 18, 19, 20]\n",
      "[9, 2, 1, 3, 4, 5, 6, 7, 8, 10, 11, 12, 13, 14, 15, 16, 17, 18, 19, 20]\n",
      "[9, 2, 1, 3, 4, 5, 6, 7, 8, 10, 11, 12, 13, 14, 15, 16, 17, 18, 19, 20]\n",
      "[9, 2, 1, 3, 4, 5, 6, 7, 8, 10, 11, 12, 13, 14, 15, 16, 17, 18, 19, 20]\n",
      "[9, 2, 1, 3, 4, 5, 6, 7, 8, 10, 11, 12, 13, 14, 15, 16, 17, 18, 19, 20]\n",
      "[9, 2, 1, 3, 4, 5, 6, 7, 8, 10, 11, 12, 13, 14, 15, 16, 17, 18, 19, 20]\n",
      "[9, 2, 1, 3, 4, 5, 6, 7, 8, 10, 11, 12, 13, 14, 15, 16, 17, 18, 19, 20]\n",
      "[9, 2, 1, 3, 4, 5, 6, 7, 8, 10, 11, 12, 13, 14, 15, 16, 17, 18, 19, 20]\n",
      "[9, 2, 1, 3, 4, 5, 6, 7, 8, 10, 11, 12, 13, 14, 15, 16, 17, 18, 19, 20]\n",
      "[9, 2, 1, 3, 4, 5, 6, 7, 8, 10, 11, 12, 13, 14, 15, 16, 17, 18, 19, 20]\n",
      "[9, 2, 1, 3, 4, 5, 6, 7, 8, 10, 11, 12, 13, 14, 15, 16, 17, 18, 19, 20]\n",
      "[9, 2, 1, 3, 4, 5, 6, 7, 8, 10, 11, 12, 13, 14, 15, 16, 17, 18, 19, 20]\n",
      "[9, 2, 1, 3, 4, 5, 6, 7, 8, 10, 11, 12, 13, 14, 15, 16, 17, 18, 19, 20]\n",
      "[9, 2, 1, 3, 4, 5, 6, 7, 8, 10, 11, 12, 13, 14, 15, 16, 17, 18, 19, 20]\n",
      "[9, 2, 1, 3, 4, 5, 6, 7, 8, 10, 11, 12, 13, 14, 15, 16, 17, 18, 19, 20]\n",
      "[9, 2, 1, 3, 4, 5, 6, 7, 8, 10, 11, 12, 13, 14, 15, 16, 17, 18, 19, 20]\n",
      "[9, 2, 1, 3, 4, 5, 6, 7, 8, 10, 11, 12, 13, 14, 15, 16, 17, 18, 19, 20]\n",
      "[9, 2, 1, 3, 4, 5, 6, 7, 8, 10, 11, 12, 13, 14, 15, 16, 17, 18, 19, 20]\n"
     ]
    }
   ],
   "source": [
    "print(input2)\n",
    "print(\"---\")\n",
    "quicksort(input2, 0, len(input2)-1)\n",
    "print(input2)"
   ]
  },
  {
   "cell_type": "markdown",
   "id": "b1c83876-900a-4bb9-9675-121bc34122ff",
   "metadata": {},
   "source": [
    "# Mergesort\n",
    "\n",
    "- Recursively sort 1st and 2nd half of array.\n",
    "- Combine the result."
   ]
  },
  {
   "cell_type": "markdown",
   "id": "9f6f4f50-ac18-4bb5-9f9a-75150f47ffa6",
   "metadata": {},
   "source": [
    "# Breath first search"
   ]
  },
  {
   "cell_type": "markdown",
   "id": "9ff292ef-0857-4209-8dfa-cce31f877318",
   "metadata": {},
   "source": [
    "# Depth first search"
   ]
  },
  {
   "cell_type": "markdown",
   "id": "984d4717-59a1-4784-a5f1-e735435fe259",
   "metadata": {},
   "source": [
    "# Binary search"
   ]
  },
  {
   "cell_type": "markdown",
   "id": "5327fa6c-0e04-4b29-942e-e4e4558f4a5e",
   "metadata": {},
   "source": [
    "# Array / List "
   ]
  },
  {
   "cell_type": "markdown",
   "id": "b86c5e35-3bc6-42ea-8c2c-125cf290af45",
   "metadata": {},
   "source": [
    "# Hash table"
   ]
  },
  {
   "cell_type": "markdown",
   "id": "ea4599c2-b1ce-44fd-a333-e17c831551f6",
   "metadata": {},
   "source": [
    "# Tree"
   ]
  },
  {
   "cell_type": "markdown",
   "id": "e0e931ad-bb5c-4e1c-ab52-ea25516239f8",
   "metadata": {},
   "source": [
    "# Graph"
   ]
  },
  {
   "cell_type": "markdown",
   "id": "43d0db6a-6e91-4205-bb4e-96024e3b4442",
   "metadata": {},
   "source": [
    "# Stack"
   ]
  },
  {
   "cell_type": "markdown",
   "id": "d69f0801-1b90-4dc9-ba19-28fba28ec260",
   "metadata": {},
   "source": [
    "# Queue"
   ]
  },
  {
   "cell_type": "markdown",
   "id": "08145b0f-26f8-4acf-939b-5655704fd674",
   "metadata": {},
   "source": [
    "# Heap (priority queue)\n",
    "\n",
    "- Perfectly balanced tree.\n",
    "- Root element must have the minimum key.\n",
    "- Insert (add to heap): $O(nlogn)$\n",
    "- Extract (remove an element with minimum key): $O(nlogn)$\n",
    "- Heapify ($n$ batched inserts): : $O(n)$"
   ]
  },
  {
   "cell_type": "code",
   "execution_count": null,
   "id": "6921af98-fdb7-4fcc-a8ae-29bcb122d78d",
   "metadata": {},
   "outputs": [],
   "source": []
  }
 ],
 "metadata": {
  "kernelspec": {
   "display_name": "Python 3 (ipykernel)",
   "language": "python",
   "name": "python3"
  },
  "language_info": {
   "codemirror_mode": {
    "name": "ipython",
    "version": 3
   },
   "file_extension": ".py",
   "mimetype": "text/x-python",
   "name": "python",
   "nbconvert_exporter": "python",
   "pygments_lexer": "ipython3",
   "version": "3.9.10"
  }
 },
 "nbformat": 4,
 "nbformat_minor": 5
}
