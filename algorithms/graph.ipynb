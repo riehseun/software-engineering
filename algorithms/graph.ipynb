{
 "cells": [
  {
   "cell_type": "markdown",
   "id": "440431a4-ccd0-4461-80b7-0164902b7270",
   "metadata": {},
   "source": [
    "# Graph\n",
    "\n",
    "######################################################################\n",
    "#############################################################################"
   ]
  },
  {
   "cell_type": "markdown",
   "id": "4a15ff48-f167-4125-b8a3-ff4f4bd2ff61",
   "metadata": {},
   "source": [
    "# Directed graph"
   ]
  },
  {
   "cell_type": "code",
   "execution_count": 4,
   "id": "0a1fa9aa-c3bc-46b8-aa6a-8ce9d14011e5",
   "metadata": {},
   "outputs": [],
   "source": [
    "# Leet997\n",
    "# https://leetcode.com/problems/find-the-town-judge/\n",
    "def find_judge(n, trust):\n",
    "    \"\"\"\n",
    "    :type n: int\n",
    "    :type trust: List[List[int]]\n",
    "    :rtype: int\n",
    "    \"\"\"\n",
    "\n",
    "    # Consider the relationships as directed graph\n",
    "    # Town Judge will have N-1 incoming edge and 0 outgoing edge\n",
    "\n",
    "    # Corner case. (Only 1 person in the town)\n",
    "    if n == 1:\n",
    "        return 1\n",
    "\n",
    "    # Use dictionary to store the number of edges for each individual.\n",
    "    # Space O(n)\n",
    "    num_incoming_edges = {}\n",
    "    num_outgoing_edges = {}\n",
    "\n",
    "    # Time O(trust)\n",
    "    for relationship in trust:\n",
    "        truster = relationship[0]\n",
    "        trustee = relationship[1]\n",
    "\n",
    "        if truster not in num_outgoing_edges:\n",
    "            num_outgoing_edges[truster] = 1\n",
    "        else:\n",
    "            num_outgoing_edges[truster] += 1\n",
    "\n",
    "        if trustee not in num_incoming_edges:\n",
    "            num_incoming_edges[trustee] = 1\n",
    "        else:\n",
    "            num_incoming_edges[trustee] += 1\n",
    "\n",
    "    # Time O(n)\n",
    "    for i in range(1,n+1):\n",
    "        if i not in num_outgoing_edges \\\n",
    "            and i in num_incoming_edges \\\n",
    "            and num_incoming_edges[i] == n-1:\n",
    "            # All three conditions satisfied.\n",
    "            return i\n",
    "\n",
    "    return -1\n",
    "\n",
    "assert(find_judge(2, [[1,2]]) == 2)\n",
    "assert(find_judge(3, [[1,3],[2,3]]) == 3)\n",
    "assert(find_judge(3, [[1,3],[2,3],[3,1]]) == -1)"
   ]
  },
  {
   "cell_type": "code",
   "execution_count": null,
   "id": "9a0e0bc1-a8f0-462d-a791-79ddc596fe04",
   "metadata": {},
   "outputs": [],
   "source": []
  }
 ],
 "metadata": {
  "kernelspec": {
   "display_name": "Python 3 (ipykernel)",
   "language": "python",
   "name": "python3"
  },
  "language_info": {
   "codemirror_mode": {
    "name": "ipython",
    "version": 3
   },
   "file_extension": ".py",
   "mimetype": "text/x-python",
   "name": "python",
   "nbconvert_exporter": "python",
   "pygments_lexer": "ipython3",
   "version": "3.9.10"
  }
 },
 "nbformat": 4,
 "nbformat_minor": 5
}
