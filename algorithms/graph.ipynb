{
 "cells": [
  {
   "cell_type": "markdown",
   "id": "440431a4-ccd0-4461-80b7-0164902b7270",
   "metadata": {},
   "source": [
    "# Breath first search\n",
    "\n",
    "- Explore ndoes in \"layers\".\n",
    "- Can compute shortest path.\n",
    "- $O(n+m)$ using queue.\n",
    "\n",
    "## Pseudocode\n",
    "\n",
    "```\n",
    "BFS(graph G, start vertex s)\n",
    "- [all node initially unexplored]\n",
    "- mark s as explored\n",
    "- let Q = queue initialized with s\n",
    "- while Q is not empty:\n",
    "    - remove first node of Q, call it v\n",
    "    - for each edge (v, w)\n",
    "        - if w unexplored\n",
    "            - mark w as explored\n",
    "            - add w to Q (at the end)\n",
    "```\n",
    "\n",
    "## Shortest path\n",
    "\n",
    "- Compute dist(v), the fewest number of edges on path from $s$ to $v$\n",
    "- Assumption: every edge has length of 1 \n",
    "- Extra code to BFS\n",
    "\n",
    "```\n",
    "- initialize dist(v): 0 if v=s, large number if v != s\n",
    "- when considering edge (v,w)\n",
    "    - if w unexplored, then set dist(w) = dist(v) + 1 \n",
    "```"
   ]
  },
  {
   "cell_type": "markdown",
   "id": "dc3ae71a-3c71-477d-b462-61748cc550fa",
   "metadata": {},
   "source": [
    "# Depth first search\n",
    "\n",
    "- Expllore aggressively, only backtrack when necessary\n",
    "- $O(n+m)$ using stack\n",
    "\n",
    "```\n",
    "DFS(graph G, start vertex s)\n",
    "- mark s as explored\n",
    "- for every edge (s, v)\n",
    "    - if v is unexplored\n",
    "        - DFS(G, v)\n",
    "```   "
   ]
  },
  {
   "cell_type": "code",
   "execution_count": null,
   "id": "c5a96fab-4d7b-41b8-ab0f-f68ca7b8a153",
   "metadata": {},
   "outputs": [],
   "source": []
  }
 ],
 "metadata": {
  "kernelspec": {
   "display_name": "Python 3 (ipykernel)",
   "language": "python",
   "name": "python3"
  },
  "language_info": {
   "codemirror_mode": {
    "name": "ipython",
    "version": 3
   },
   "file_extension": ".py",
   "mimetype": "text/x-python",
   "name": "python",
   "nbconvert_exporter": "python",
   "pygments_lexer": "ipython3",
   "version": "3.9.10"
  }
 },
 "nbformat": 4,
 "nbformat_minor": 5
}
