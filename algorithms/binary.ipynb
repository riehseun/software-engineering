{
 "cells": [
  {
   "cell_type": "code",
   "execution_count": 1,
   "id": "1d21d97f-14b6-4524-a48f-f64ed128e5e2",
   "metadata": {},
   "outputs": [
    {
     "ename": "TypeError",
     "evalue": "add_binary() missing 1 required positional argument: 'b'",
     "output_type": "error",
     "traceback": [
      "\u001b[0;31m---------------------------------------------------------------------------\u001b[0m",
      "\u001b[0;31mTypeError\u001b[0m                                 Traceback (most recent call last)",
      "Input \u001b[0;32mIn [1]\u001b[0m, in \u001b[0;36m<cell line: 61>\u001b[0;34m()\u001b[0m\n\u001b[1;32m     56\u001b[0m         c \u001b[38;5;241m=\u001b[39m \u001b[38;5;124m\"\u001b[39m\u001b[38;5;124m1\u001b[39m\u001b[38;5;124m\"\u001b[39m \u001b[38;5;241m+\u001b[39m c\n\u001b[1;32m     58\u001b[0m     \u001b[38;5;28;01mreturn\u001b[39;00m c\n\u001b[0;32m---> 61\u001b[0m \u001b[38;5;28;01massert\u001b[39;00m(\u001b[43madd_binary\u001b[49m\u001b[43m(\u001b[49m\u001b[38;5;124;43m\"\u001b[39;49m\u001b[38;5;124;43m11\u001b[39;49m\u001b[38;5;124;43m\"\u001b[39;49m\u001b[43m,\u001b[49m\u001b[43m \u001b[49m\u001b[38;5;124;43m\"\u001b[39;49m\u001b[38;5;124;43m1\u001b[39;49m\u001b[38;5;124;43m\"\u001b[39;49m\u001b[43m)\u001b[49m \u001b[38;5;241m==\u001b[39m \u001b[38;5;124m\"\u001b[39m\u001b[38;5;124m100\u001b[39m\u001b[38;5;124m\"\u001b[39m)\n\u001b[1;32m     62\u001b[0m \u001b[38;5;28;01massert\u001b[39;00m(add_binary(\u001b[38;5;124m\"\u001b[39m\u001b[38;5;124m1010\u001b[39m\u001b[38;5;124m\"\u001b[39m, \u001b[38;5;124m\"\u001b[39m\u001b[38;5;124m1011\u001b[39m\u001b[38;5;124m\"\u001b[39m) \u001b[38;5;241m==\u001b[39m \u001b[38;5;124m\"\u001b[39m\u001b[38;5;124m10101\u001b[39m\u001b[38;5;124m\"\u001b[39m)\n",
      "\u001b[0;31mTypeError\u001b[0m: add_binary() missing 1 required positional argument: 'b'"
     ]
    }
   ],
   "source": [
    "def add_binary(a, b):\n",
    "    \"\"\"\n",
    "    Adds two binary numbers.\n",
    "\n",
    "    Args:\n",
    "        a -- A binary number.\n",
    "        b -- A binary number.\n",
    "\n",
    "    Returns:\n",
    "        A binary number which is the sum of a and b.\n",
    "    \"\"\"\n",
    "\n",
    "    a = list(a)\n",
    "    b = list(b)\n",
    "    carry = 0\n",
    "    binary_sum = 0\n",
    "    c = \"\"\n",
    "\n",
    "    # Example: [1,1], [1] => 100\n",
    "    # sum=2, carry=1, c=0\n",
    "    # sum=1, carry=1, c=00\n",
    "\n",
    "    # Time: O(s) where s is the combined lenght of a and b.\n",
    "    # Space: O(1)\n",
    "    while a or b:\n",
    "        if a:\n",
    "            binary_sum += int(a.pop())\n",
    "        if b:\n",
    "            binary_sum += int(b.pop())\n",
    "\n",
    "        if binary_sum == 2:\n",
    "            if carry == 1:\n",
    "                carry = 1\n",
    "                c = \"1\" + c\n",
    "            else:\n",
    "                carry = 1\n",
    "                c = \"0\" + c\n",
    "        elif binary_sum == 1:\n",
    "            if carry == 1:\n",
    "                carry = 1\n",
    "                c = \"0\" + c\n",
    "            else:\n",
    "                carry = 0\n",
    "                c = \"1\" + c\n",
    "        else:\n",
    "            if carry == 1:\n",
    "                carry = 0\n",
    "                c = \"1\" + c\n",
    "            else:\n",
    "                carry = 0\n",
    "                c = \"0\" + c\n",
    "\n",
    "        binary_sum = 0\n",
    "\n",
    "    if carry == 1:\n",
    "        c = \"1\" + c\n",
    "\n",
    "    return c\n",
    "\n",
    "\n",
    "assert(add_binary(\"11\", \"1\") == \"100\")\n",
    "assert(add_binary(\"1010\", \"1011\") == \"10101\")"
   ]
  },
  {
   "cell_type": "code",
   "execution_count": null,
   "id": "b9135cb2-7b55-49b5-a21f-4eeaf638571e",
   "metadata": {},
   "outputs": [],
   "source": []
  }
 ],
 "metadata": {
  "kernelspec": {
   "display_name": "Python 3 (ipykernel)",
   "language": "python",
   "name": "python3"
  },
  "language_info": {
   "codemirror_mode": {
    "name": "ipython",
    "version": 3
   },
   "file_extension": ".py",
   "mimetype": "text/x-python",
   "name": "python",
   "nbconvert_exporter": "python",
   "pygments_lexer": "ipython3",
   "version": "3.9.10"
  }
 },
 "nbformat": 4,
 "nbformat_minor": 5
}
