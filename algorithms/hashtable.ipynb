{
 "cells": [
  {
   "cell_type": "markdown",
   "id": "868d2bf9-07f9-4f7d-846e-8c07b8175854",
   "metadata": {},
   "source": [
    "# Hash table\n",
    "\n",
    "- Really a dictionary (w/o ordering elements)\n",
    "- Insert & Delete & Lookup: $O(1)$"
   ]
  },
  {
   "cell_type": "code",
   "execution_count": null,
   "id": "0839e1c1-635e-4419-b917-7a0351494bfc",
   "metadata": {},
   "outputs": [],
   "source": []
  }
 ],
 "metadata": {
  "kernelspec": {
   "display_name": "Python 3 (ipykernel)",
   "language": "python",
   "name": "python3"
  },
  "language_info": {
   "codemirror_mode": {
    "name": "ipython",
    "version": 3
   },
   "file_extension": ".py",
   "mimetype": "text/x-python",
   "name": "python",
   "nbconvert_exporter": "python",
   "pygments_lexer": "ipython3",
   "version": "3.9.10"
  }
 },
 "nbformat": 4,
 "nbformat_minor": 5
}
