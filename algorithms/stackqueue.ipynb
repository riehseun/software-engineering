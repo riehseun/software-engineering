{
 "cells": [
  {
   "cell_type": "markdown",
   "id": "c4a2bccc-15bd-4e76-bad9-74f368da3b76",
   "metadata": {},
   "source": [
    "# Stack\n",
    "\n",
    "The same thing as a list in python"
   ]
  },
  {
   "cell_type": "markdown",
   "id": "30d69e6a-a94d-46ee-b3ff-8830251c3b13",
   "metadata": {},
   "source": [
    "# Queue\n",
    "\n",
    "Requires a python module"
   ]
  },
  {
   "cell_type": "code",
   "execution_count": 4,
   "id": "e1105b98-94ee-4ba9-af3f-bb1bee80c690",
   "metadata": {},
   "outputs": [],
   "source": [
    "def longest_valid_parentheses(s):\n",
    "    \"\"\"\n",
    "    Find the longest valid parenthesis.\n",
    "\n",
    "    Args:\n",
    "        s -- String representing a parenthesis pattern.\n",
    "    Returns:\n",
    "        The longest valid parenthesis.\n",
    "    \"\"\"\n",
    "\n",
    "    # Example: (()\n",
    "    # stack: [\"(\"]\n",
    "    # stack: [\"(\", \"(\"]\n",
    "    # stack: [\"(\"]\n",
    "\n",
    "    # Example: ()(()\n",
    "    # stack: [\"(\"]\n",
    "    # stack: []\n",
    "    # stack: [\"(\"]\n",
    "    # stack: [\"(\", \"(\"]\n",
    "    # stack: [\"(\"]\n",
    "\n",
    "    stack = []\n",
    "    indexes = {}\n",
    "    longest = [0]\n",
    "\n",
    "    # Time: O(n)\n",
    "    # Space: O(n)\n",
    "    for i in range(len(s)):\n",
    "        if s[i] == \"(\":\n",
    "            stack.append((i, s[i]))\n",
    "        else:\n",
    "            # Found a matching pair\n",
    "            if len(stack) > 0 and stack[-1][1] == \"(\":\n",
    "                # Keep track of indexes of opening and closing\n",
    "                # parenthesis that constitute a valid pattern.\n",
    "                indexes[stack[-1][0]] = i\n",
    "                stack.pop()\n",
    "            else:\n",
    "                stack.append((i, s[i]))\n",
    "\n",
    "    # stack will now only contain unmatching parenthesis and thier\n",
    "    # indices.\n",
    "    if not stack:\n",
    "        return len(s)\n",
    "\n",
    "    a = len(s)\n",
    "    b = 0\n",
    "    longest = 0\n",
    "    while stack:\n",
    "        b = stack[-1][0]\n",
    "        longest = max(longest, a-b-1)\n",
    "        a = b\n",
    "        stack.pop()\n",
    "\n",
    "    return max(longest, a)\n",
    "    \n",
    "    \n",
    "assert(longest_valid_parentheses(\"(()\") == 2)\n",
    "assert(longest_valid_parentheses(\")()())\") == 4)\n",
    "assert(longest_valid_parentheses(\"\") == 0)\n",
    "assert(longest_valid_parentheses(\"()(()\") == 2)\n",
    "assert(longest_valid_parentheses(\"()(())\") == 6)\n",
    "assert(longest_valid_parentheses(\"())\") == 2)"
   ]
  },
  {
   "cell_type": "code",
   "execution_count": null,
   "id": "56b5a501-9db0-44ce-a9f4-c09e95f592cd",
   "metadata": {},
   "outputs": [],
   "source": []
  }
 ],
 "metadata": {
  "kernelspec": {
   "display_name": "Python 3 (ipykernel)",
   "language": "python",
   "name": "python3"
  },
  "language_info": {
   "codemirror_mode": {
    "name": "ipython",
    "version": 3
   },
   "file_extension": ".py",
   "mimetype": "text/x-python",
   "name": "python",
   "nbconvert_exporter": "python",
   "pygments_lexer": "ipython3",
   "version": "3.9.10"
  }
 },
 "nbformat": 4,
 "nbformat_minor": 5
}
