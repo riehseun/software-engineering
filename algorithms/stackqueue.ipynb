{
 "cells": [
  {
   "cell_type": "markdown",
   "id": "c4a2bccc-15bd-4e76-bad9-74f368da3b76",
   "metadata": {},
   "source": [
    "# Stack\n",
    "\n",
    "- Python **list** implements stack."
   ]
  },
  {
   "cell_type": "code",
   "execution_count": null,
   "id": "e1105b98-94ee-4ba9-af3f-bb1bee80c690",
   "metadata": {},
   "outputs": [],
   "source": [
    "# Leet32\n",
    "\n",
    "def longest_valid_parentheses(s):\n",
    "    \"\"\"\n",
    "    Find the longest valid parenthesis.\n",
    "\n",
    "    Args:\n",
    "        s -- String representing a parenthesis pattern.\n",
    "    Returns:\n",
    "        The longest valid parenthesis.\n",
    "    \"\"\"\n",
    "\n",
    "    # Example: (()\n",
    "    # stack: [\"(\"]\n",
    "    # stack: [\"(\", \"(\"]\n",
    "    # stack: [\"(\"]\n",
    "\n",
    "    # Example: ()(()\n",
    "    # stack: [\"(\"]\n",
    "    # stack: []\n",
    "    # stack: [\"(\"]\n",
    "    # stack: [\"(\", \"(\"]\n",
    "    # stack: [\"(\"]\n",
    "\n",
    "    stack = []\n",
    "    indexes = {}\n",
    "    longest = [0]\n",
    "\n",
    "    # Time: O(n)\n",
    "    # Space: O(n)\n",
    "    for i in range(len(s)):\n",
    "        if s[i] == \"(\":\n",
    "            stack.append((i, s[i]))\n",
    "        else:\n",
    "            # Found a matching pair\n",
    "            if len(stack) > 0 and stack[-1][1] == \"(\":\n",
    "                # Keep track of indexes of opening and closing\n",
    "                # parenthesis that constitute a valid pattern.\n",
    "                indexes[stack[-1][0]] = i\n",
    "                stack.pop()\n",
    "            else:\n",
    "                stack.append((i, s[i]))\n",
    "\n",
    "    # stack will now only contain unmatching parenthesis and thier\n",
    "    # indices.\n",
    "    if not stack:\n",
    "        return len(s)\n",
    "\n",
    "    a = len(s)\n",
    "    b = 0\n",
    "    longest = 0\n",
    "    while stack:\n",
    "        b = stack[-1][0]\n",
    "        longest = max(longest, a-b-1)\n",
    "        a = b\n",
    "        stack.pop()\n",
    "\n",
    "    return max(longest, a)\n",
    "    \n",
    "    \n",
    "assert(longest_valid_parentheses(\"(()\") == 2)\n",
    "assert(longest_valid_parentheses(\")()())\") == 4)\n",
    "assert(longest_valid_parentheses(\"\") == 0)\n",
    "assert(longest_valid_parentheses(\"()(()\") == 2)\n",
    "assert(longest_valid_parentheses(\"()(())\") == 6)\n",
    "assert(longest_valid_parentheses(\"())\") == 2)"
   ]
  },
  {
   "cell_type": "markdown",
   "id": "eedba33d-a331-46ca-8caa-7d613f7a6ab1",
   "metadata": {},
   "source": [
    "# Queue\n",
    "\n",
    "- Python **collections** module has queue."
   ]
  },
  {
   "cell_type": "code",
   "execution_count": null,
   "id": "d50c25f9-154b-4f42-bc0d-e2d561b6fe6a",
   "metadata": {},
   "outputs": [],
   "source": [
    "from collections import deque\n",
    "  \n",
    "# Initializing a queue\n",
    "q = deque()\n",
    "  \n",
    "# Adding elements to a queue\n",
    "q.append('a')\n",
    "q.append('b')\n",
    "q.append('c')\n",
    "\n",
    "# Removing elements from a queue\n",
    "q.popleft()"
   ]
  },
  {
   "cell_type": "code",
   "execution_count": null,
   "id": "a92d0c1e-d59b-4956-b9fe-1e145f2efac2",
   "metadata": {},
   "outputs": [],
   "source": []
  }
 ],
 "metadata": {
  "kernelspec": {
   "display_name": "Python 3 (ipykernel)",
   "language": "python",
   "name": "python3"
  },
  "language_info": {
   "codemirror_mode": {
    "name": "ipython",
    "version": 3
   },
   "file_extension": ".py",
   "mimetype": "text/x-python",
   "name": "python",
   "nbconvert_exporter": "python",
   "pygments_lexer": "ipython3",
   "version": "3.9.10"
  }
 },
 "nbformat": 4,
 "nbformat_minor": 5
}
