{
 "cells": [
  {
   "cell_type": "code",
   "execution_count": null,
   "id": "67a109ca-18ba-41d3-b333-3c3069925fb9",
   "metadata": {},
   "outputs": [],
   "source": [
    "import random\n",
    "\n",
    "from utils import openfile, convert_string_to_integer_in_list"
   ]
  },
  {
   "cell_type": "markdown",
   "id": "39b56132-7b59-4670-86bb-426b56d52a96",
   "metadata": {},
   "source": [
    "# Quicksort\n",
    "\n",
    "- Choose a random pivot.\n",
    "- Sort such that.\n",
    "    - Everything less than pivot is placed on the left.\n",
    "    - Everything greater than piviot is placed on the right.\n",
    "- Time: $O(nlogn)$ on average. (worst case is $O(n^{2})$ when the pivot is always chosen the worst possible way)\n",
    "- Space: $O(1)$ sorts in place.\n",
    "\n",
    "## Pseducode\n",
    "\n",
    "```\n",
    "Partition(A,l,r) # input = A[l ... r]\n",
    "P = A[l] # for example, pick first element as pivot\n",
    "i = l+1\n",
    "For i = l+1 to r\n",
    "    if A[j] < P\n",
    "        Swap A[j] and A[i]\n",
    "        i++\n",
    "Swap A[l] and A[i-1]\n",
    "```\n",
    "\n",
    "```\n",
    "Quicksort(array A, length n)\n",
    "If n=1\n",
    "    return\n",
    "p = choosepivot(A, n)\n",
    "Partition A around P\n",
    "Recursively sort 1st part\n",
    "Recursively sort 2nd part\n",
    "```"
   ]
  },
  {
   "cell_type": "code",
   "execution_count": null,
   "id": "e8583ad4-1e9d-4b8a-8f7c-2df3136b6f00",
   "metadata": {},
   "outputs": [],
   "source": [
    "input1 = convert_string_to_integer_in_list(openfile(\"data/quicksort1.txt\"))\n",
    "input2 = convert_string_to_integer_in_list(openfile(\"data/quicksort2.txt\"))"
   ]
  },
  {
   "cell_type": "code",
   "execution_count": null,
   "id": "5d6c8566-091d-4532-ad37-2f3b8961d17f",
   "metadata": {},
   "outputs": [],
   "source": [
    "def partition(array, start_index, end_index):\n",
    "    \"\"\"\n",
    "    Swaps elements so that all less than the pivot \n",
    "    is placed on the left side and all greater than \n",
    "    the pivot is placed on the right side.\n",
    "    \n",
    "    Args:\n",
    "        array -- An array to do swap operations.\n",
    "        start_index -- The index of array to apply partitioning from.\n",
    "        end_index -- The index of array to apply partitioning to.\n",
    "        \n",
    "    Returns:\n",
    "        An array after swaps are complete.\n",
    "    \"\"\"\n",
    "    \n",
    "    # Swap items at pivot and start index.\n",
    "    # temp = array[start_index]\n",
    "    # array[start_index] = array[pivot_index]\n",
    "    # array[pivot_index] = temp \n",
    "    \n",
    "    i = start_index + 1\n",
    "    for j in range(start_index+1, end_index+1):\n",
    "        if array[j] < array[start_index]:\n",
    "            # Swap ith and jth element.\n",
    "            temp = array[i]\n",
    "            array[i] = array[j]\n",
    "            array[j] = temp\n",
    "            i += 1\n",
    "    \n",
    "    # Swap item at start_index and item at i-1.\n",
    "    temp = array[start_index]\n",
    "    array[start_index] = array[i-1]\n",
    "    array[i-1] = temp"
   ]
  },
  {
   "cell_type": "code",
   "execution_count": null,
   "id": "d4eebcbe-4e35-4604-8b92-ecf1d08692bc",
   "metadata": {},
   "outputs": [],
   "source": [
    "def quicksort(array, start_index, end_index):\n",
    "    \"\"\"\n",
    "    Implements quicksort algorithm.\n",
    "    \n",
    "    Args:\n",
    "        array -- An array of integers.\n",
    "        start_index -- The index of array to apply sorting from.\n",
    "        end_index -- The index of array to apply sorting to.\n",
    "    \n",
    "    Returns:\n",
    "        Sorted array of integers.\n",
    "    \"\"\"\n",
    "    \n",
    "    # If there is only 1 element in the array.\n",
    "    if end_index <= start_index:\n",
    "        return\n",
    "    \n",
    "    # pivot_index = random.randint(start_index, end_index)\n",
    "    partition(array, start_index, end_index)\n",
    "    \n",
    "    print(array)\n",
    "    \n",
    "    quicksort(array, start_index, start_index-1)  # Sorts the left half.\n",
    "    quicksort(array, start_index+1, end_index)  # Sorts the right half.            "
   ]
  },
  {
   "cell_type": "code",
   "execution_count": null,
   "id": "4af37a8f-0bdf-4ed5-a292-f9481e5f3e5b",
   "metadata": {},
   "outputs": [],
   "source": [
    "print(input2)\n",
    "print(\"---\")\n",
    "quicksort(input2, 0, len(input2)-1)\n",
    "print(input2)"
   ]
  },
  {
   "cell_type": "markdown",
   "id": "07732b5c-ec76-4217-a661-abcfaeeb6763",
   "metadata": {},
   "source": [
    "# Mergesort\n",
    "\n",
    "- Recursively sort 1st and 2nd half of array.\n",
    "- Combine the result.\n",
    "- Time: $O(nlogn)$\n",
    "\n",
    "## Pseudocode\n",
    "\n",
    "```\n",
    "recursively sort 1st half of array\n",
    "recursively sort 2nd half of array\n",
    "C = output[length=n]\n",
    "A = 1st sorted array[n/2]\n",
    "B = 2st sorted array[n/2]\n",
    "i = 1\n",
    "j = 1\n",
    "\n",
    "for k=1 to n\n",
    "    if A(i) < B(j)\n",
    "        C(k) = A(i)\n",
    "        i++\n",
    "    else B(j) < A(i)\n",
    "        C(k)\n",
    "        j++\n",
    "```"
   ]
  },
  {
   "cell_type": "code",
   "execution_count": null,
   "id": "a1ab12a4-3f83-4359-a723-f852e2ee1ba2",
   "metadata": {},
   "outputs": [],
   "source": []
  }
 ],
 "metadata": {
  "kernelspec": {
   "display_name": "Python 3 (ipykernel)",
   "language": "python",
   "name": "python3"
  },
  "language_info": {
   "codemirror_mode": {
    "name": "ipython",
    "version": 3
   },
   "file_extension": ".py",
   "mimetype": "text/x-python",
   "name": "python",
   "nbconvert_exporter": "python",
   "pygments_lexer": "ipython3",
   "version": "3.9.10"
  }
 },
 "nbformat": 4,
 "nbformat_minor": 5
}
