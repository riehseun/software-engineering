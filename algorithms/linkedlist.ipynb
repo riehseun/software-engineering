{
 "cells": [
  {
   "cell_type": "markdown",
   "id": "6e0640bd-c127-4b58-bcc2-d13a7742b79d",
   "metadata": {},
   "source": [
    "# Linkedlist"
   ]
  },
  {
   "cell_type": "code",
   "execution_count": 3,
   "id": "30272348-05d5-4097-91a7-7a85c2070e20",
   "metadata": {},
   "outputs": [],
   "source": [
    "class ListNode(object):\n",
    "    def __init__(self, val=0, next=None):\n",
    "        self.val = val\n",
    "        self.next = next"
   ]
  },
  {
   "cell_type": "code",
   "execution_count": 7,
   "id": "7bbf0946-b7b2-4e38-a1bb-5584686a7179",
   "metadata": {},
   "outputs": [],
   "source": [
    "def merge_two_lists(list1, list2):\n",
    "    \"\"\"\n",
    "    Merge two linked lists into a one sorted linked list.\n",
    "    Assume list1 and list2 are sorted in non-decreasing order.\n",
    "\n",
    "    Args:\n",
    "        list1 -- A linked list of integers.\n",
    "        list2 -- A linked list of integers.\n",
    "\n",
    "    Returns:\n",
    "        A sorted linked list.\n",
    "    \"\"\"\n",
    "\n",
    "    # Example: [1,2,4], [1,3,4] => [1,1,2,3,4,4]\n",
    "\n",
    "    list3 = ListNode()\n",
    "    temp = list3\n",
    "\n",
    "    # Time: O(n) where n is the combined lenght of two linked lists.\n",
    "    # Space: O(1) no additional space allocated.\n",
    "    while list1 and list2:\n",
    "        if list1.val < list2.val:\n",
    "            list3.next = list1\n",
    "            list1 = list1.next\n",
    "        else:\n",
    "            list3.next = list2\n",
    "            list2 = list2.next\n",
    "        list3 = list3.next\n",
    "\n",
    "    if list1:\n",
    "        list3.next = list1\n",
    "    if list2:\n",
    "        list3.next = list2\n",
    "\n",
    "    # Returning list3.next will return the last node in the linked\n",
    "    # list we computed. To return the first node, we use temp.\n",
    "    return temp.next\n",
    "    \n",
    "    \n",
    "node12 = ListNode(4, None)\n",
    "node11 = ListNode(4, node12)\n",
    "node10 = ListNode(3, node11)\n",
    "node9 = ListNode(2, node10)\n",
    "node8 = ListNode(1, node9)\n",
    "node7 = ListNode(1, node8)\n",
    "node6 = ListNode(4, None)\n",
    "node5 = ListNode(3, node6)\n",
    "node4 = ListNode(1, node5)\n",
    "node3 = ListNode(4, None)\n",
    "node2 = ListNode(2, node3)\n",
    "node1 = ListNode(1, node2)\n",
    "assert(merge_two_lists(node1, node4).val == node7.val)"
   ]
  },
  {
   "cell_type": "code",
   "execution_count": null,
   "id": "be667a55-981c-497e-b2c3-fa7a5c5aea7c",
   "metadata": {},
   "outputs": [],
   "source": []
  }
 ],
 "metadata": {
  "kernelspec": {
   "display_name": "Python 3 (ipykernel)",
   "language": "python",
   "name": "python3"
  },
  "language_info": {
   "codemirror_mode": {
    "name": "ipython",
    "version": 3
   },
   "file_extension": ".py",
   "mimetype": "text/x-python",
   "name": "python",
   "nbconvert_exporter": "python",
   "pygments_lexer": "ipython3",
   "version": "3.9.10"
  }
 },
 "nbformat": 4,
 "nbformat_minor": 5
}
